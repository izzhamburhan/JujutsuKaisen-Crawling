{
 "cells": [
  {
   "cell_type": "code",
   "execution_count": 1,
   "id": "b803bcf9-983d-4128-ae37-a8c4bb5423b8",
   "metadata": {},
   "outputs": [],
   "source": [
    "import pandas as pd\n",
    "import time\n",
    "from selenium import webdriver\n",
    "from webdriver_manager.chrome import ChromeDriverManager"
   ]
  },
  {
   "cell_type": "markdown",
   "id": "e9d2eadc-d3cd-4204-9420-e578c6a1bd7d",
   "metadata": {
    "tags": []
   },
   "source": [
    "<h1>Create Driver</h1>"
   ]
  },
  {
   "cell_type": "code",
   "execution_count": 23,
   "id": "7673a76e-780c-44a9-afd4-5bc1885871a8",
   "metadata": {},
   "outputs": [
    {
     "name": "stdout",
     "output_type": "stream",
     "text": [
      "\n"
     ]
    },
    {
     "name": "stderr",
     "output_type": "stream",
     "text": [
      "[WDM] - ====== WebDriver manager ======\n",
      "[WDM] - Current google-chrome version is 102.0.5005\n",
      "[WDM] - Get LATEST chromedriver version for 102.0.5005 google-chrome\n",
      "[WDM] - Driver [C:\\Users\\Izzham\\.wdm\\drivers\\chromedriver\\win32\\102.0.5005.61\\chromedriver.exe] found in cache\n",
      "C:\\Users\\Izzham\\AppData\\Local\\Temp\\ipykernel_5296\\1503906442.py:1: DeprecationWarning: executable_path has been deprecated, please pass in a Service object\n",
      "  driver = webdriver.Chrome(ChromeDriverManager().install())\n"
     ]
    }
   ],
   "source": [
    "driver = webdriver.Chrome(ChromeDriverManager().install())"
   ]
  },
  {
   "cell_type": "code",
   "execution_count": 24,
   "id": "04da8f81-65bd-4ca4-bdf1-4d9996a23987",
   "metadata": {},
   "outputs": [],
   "source": [
    "page_url = \"https://jujutsu-kaisen.fandom.com/wiki/Category:Characters_by_Affiliation\"\n",
    "driver.get(page_url)"
   ]
  },
  {
   "cell_type": "code",
   "execution_count": 25,
   "id": "bdfd385e-c067-4ff6-b81f-4ec2e0bc28c3",
   "metadata": {},
   "outputs": [
    {
     "name": "stderr",
     "output_type": "stream",
     "text": [
      "C:\\Users\\Izzham\\AppData\\Local\\Temp\\ipykernel_5296\\2322428871.py:1: DeprecationWarning: find_elements_by_class_name is deprecated. Please use find_elements(by=By.CLASS_NAME, value=name) instead\n",
      "  char_category = driver.find_elements_by_class_name('category-page__member-link')\n"
     ]
    }
   ],
   "source": [
    "char_category = driver.find_elements_by_class_name('category-page__member-link')"
   ]
  },
  {
   "cell_type": "code",
   "execution_count": 30,
   "id": "51d80f3e-f295-470c-89d1-3c13f8ad3a2e",
   "metadata": {},
   "outputs": [
    {
     "data": {
      "text/plain": [
       "'Category:Zenin Family'"
      ]
     },
     "execution_count": 30,
     "metadata": {},
     "output_type": "execute_result"
    }
   ],
   "source": [
    "char_category[3].text\n",
    "#'Category:Zenin Family'"
   ]
  },
  {
   "cell_type": "code",
   "execution_count": 31,
   "id": "937aad41-519d-49da-bdce-20133fcc02fd",
   "metadata": {},
   "outputs": [
    {
     "data": {
      "text/plain": [
       "'https://jujutsu-kaisen.fandom.com/wiki/Category:Fukuoka_Jujutsu_High'"
      ]
     },
     "execution_count": 31,
     "metadata": {},
     "output_type": "execute_result"
    }
   ],
   "source": [
    "char_category[0].get_attribute('href')"
   ]
  },
  {
   "cell_type": "code",
   "execution_count": 32,
   "id": "ad275fd1-b77a-4dbe-b75a-d6843dc0619b",
   "metadata": {},
   "outputs": [],
   "source": [
    "driver.get(char_category[0].get_attribute('href'))"
   ]
  },
  {
   "cell_type": "code",
   "execution_count": 34,
   "id": "de67262a-a0e1-4516-b20c-9cb3df8a4bb3",
   "metadata": {},
   "outputs": [
    {
     "name": "stderr",
     "output_type": "stream",
     "text": [
      "C:\\Users\\Izzham\\AppData\\Local\\Temp\\ipykernel_5296\\2306970029.py:1: DeprecationWarning: find_elements_by_class_name is deprecated. Please use find_elements(by=By.CLASS_NAME, value=name) instead\n",
      "  jjk_char = driver.find_elements_by_class_name('category-page__member-link')\n"
     ]
    }
   ],
   "source": [
    "jjk_char = driver.find_elements_by_class_name('category-page__member-link')"
   ]
  },
  {
   "cell_type": "code",
   "execution_count": 40,
   "id": "c64c96d2-8796-4992-ad52-206bd159310f",
   "metadata": {},
   "outputs": [
    {
     "data": {
      "text/plain": [
       "[<selenium.webdriver.remote.webelement.WebElement (session=\"3297176cd61d8e7d9e19cb90fcdb8ceb\", element=\"01b8620b-b871-4144-aa80-8a4049f389b9\")>,\n",
       " <selenium.webdriver.remote.webelement.WebElement (session=\"3297176cd61d8e7d9e19cb90fcdb8ceb\", element=\"6ca9af2d-39a6-439b-affe-70a96e128f6e\")>]"
      ]
     },
     "execution_count": 40,
     "metadata": {},
     "output_type": "execute_result"
    }
   ],
   "source": [
    "jjk_char"
   ]
  },
  {
   "cell_type": "markdown",
   "id": "ea7dd697-4020-4d87-8cc0-94c1bcb02a0f",
   "metadata": {},
   "source": []
  },
  {
   "cell_type": "code",
   "execution_count": null,
   "id": "4dd2dcd0-85ad-41cf-ba2e-03b6c1c75c29",
   "metadata": {},
   "outputs": [],
   "source": []
  },
  {
   "cell_type": "markdown",
   "id": "bda35cfa-aa0d-4e35-b1a1-3d7ea87905a3",
   "metadata": {},
   "source": [
    "<h1>Full Code<h1>"
   ]
  },
  {
   "cell_type": "code",
   "execution_count": 43,
   "id": "7b658bc2-4215-481b-899b-b2f1658354d8",
   "metadata": {},
   "outputs": [
    {
     "name": "stdout",
     "output_type": "stream",
     "text": [
      "\n"
     ]
    },
    {
     "name": "stderr",
     "output_type": "stream",
     "text": [
      "[WDM] - ====== WebDriver manager ======\n",
      "[WDM] - Current google-chrome version is 102.0.5005\n",
      "[WDM] - Get LATEST chromedriver version for 102.0.5005 google-chrome\n",
      "[WDM] - Driver [C:\\Users\\Izzham\\.wdm\\drivers\\chromedriver\\win32\\102.0.5005.61\\chromedriver.exe] found in cache\n",
      "C:\\Users\\Izzham\\AppData\\Local\\Temp\\ipykernel_5296\\2690445623.py:2: DeprecationWarning: executable_path has been deprecated, please pass in a Service object\n",
      "  driver = webdriver.Chrome(ChromeDriverManager().install())\n",
      "C:\\Users\\Izzham\\AppData\\Local\\Temp\\ipykernel_5296\\2690445623.py:9: DeprecationWarning: find_elements_by_class_name is deprecated. Please use find_elements(by=By.CLASS_NAME, value=name) instead\n",
      "  char_category = driver.find_elements_by_class_name('category-page__member-link')\n"
     ]
    }
   ],
   "source": [
    "# Create Driver\n",
    "driver = webdriver.Chrome(ChromeDriverManager().install())\n",
    "\n",
    "# Path to the Wiki Page\n",
    "page_url = \"https://jujutsu-kaisen.fandom.com/wiki/Category:Characters_by_Affiliation\"\n",
    "driver.get(page_url)\n",
    "\n",
    "# Find character category\n",
    "char_category = driver.find_elements_by_class_name('category-page__member-link')\n",
    "\n",
    "cat = []\n",
    "for category in char_category:\n",
    "    category_url = category.get_attribute('href')\n",
    "    category_name = category.text\n",
    "    cat.append({'Category_name':category_name, 'url':category_url})\n"
   ]
  },
  {
   "cell_type": "code",
   "execution_count": 44,
   "id": "ec283612-530b-451f-99bd-065a157c451d",
   "metadata": {},
   "outputs": [
    {
     "data": {
      "text/plain": [
       "[{'Category_name': 'Category:Fukuoka Jujutsu High',\n",
       "  'url': 'https://jujutsu-kaisen.fandom.com/wiki/Category:Fukuoka_Jujutsu_High'},\n",
       " {'Category_name': 'Category:Kyoto Jujutsu High',\n",
       "  'url': 'https://jujutsu-kaisen.fandom.com/wiki/Category:Kyoto_Jujutsu_High'},\n",
       " {'Category_name': 'Category:Tokyo Jujutsu High',\n",
       "  'url': 'https://jujutsu-kaisen.fandom.com/wiki/Category:Tokyo_Jujutsu_High'},\n",
       " {'Category_name': 'Category:Zenin Family',\n",
       "  'url': 'https://jujutsu-kaisen.fandom.com/wiki/Category:Zenin_Family'}]"
      ]
     },
     "execution_count": 44,
     "metadata": {},
     "output_type": "execute_result"
    }
   ],
   "source": [
    "cat"
   ]
  },
  {
   "cell_type": "code",
   "execution_count": 48,
   "id": "da32cf0d-69a3-40ea-98b5-0aa0edeff20e",
   "metadata": {},
   "outputs": [
    {
     "name": "stderr",
     "output_type": "stream",
     "text": [
      "C:\\Users\\Izzham\\AppData\\Local\\Temp\\ipykernel_5296\\4043359905.py:7: DeprecationWarning: find_elements_by_class_name is deprecated. Please use find_elements(by=By.CLASS_NAME, value=name) instead\n",
      "  jjk_char = driver.find_elements_by_class_name('category-page__member-link')\n"
     ]
    }
   ],
   "source": [
    "character = []\n",
    "\n",
    "for cats in cat:\n",
    "    # go to the category page\n",
    "    driver.get(cats['url'])\n",
    "    \n",
    "    jjk_char = driver.find_elements_by_class_name('category-page__member-link')\n",
    "    \n",
    "    for jjk in jjk_char:\n",
    "        character.append({'category':cats['Category_name'],'character_name':jjk.text })"
   ]
  },
  {
   "cell_type": "code",
   "execution_count": 49,
   "id": "5c4f17d7-d74e-4a13-afb4-2d52cf8cf765",
   "metadata": {},
   "outputs": [
    {
     "data": {
      "text/plain": [
       "[{'category': 'Category:Fukuoka Jujutsu High', 'character_name': 'Kaito Yuki'},\n",
       " {'category': 'Category:Fukuoka Jujutsu High',\n",
       "  'character_name': 'Kensuke Nagino'},\n",
       " {'category': 'Category:Fukuoka Jujutsu High', 'character_name': 'Saki Rindo'},\n",
       " {'category': 'Category:Kyoto Jujutsu High', 'character_name': 'Aoi Todo'},\n",
       " {'category': 'Category:Kyoto Jujutsu High', 'character_name': 'Arata Nitta'},\n",
       " {'category': 'Category:Kyoto Jujutsu High', 'character_name': 'Kasumi Miwa'},\n",
       " {'category': 'Category:Kyoto Jujutsu High', 'character_name': 'Kokichi Muta'},\n",
       " {'category': 'Category:Kyoto Jujutsu High', 'character_name': 'Mai Zenin'},\n",
       " {'category': 'Category:Kyoto Jujutsu High',\n",
       "  'character_name': 'Momo Nishimiya'},\n",
       " {'category': 'Category:Kyoto Jujutsu High',\n",
       "  'character_name': 'Noritoshi Kamo'},\n",
       " {'category': 'Category:Kyoto Jujutsu High', 'character_name': 'Utahime Iori'},\n",
       " {'category': 'Category:Kyoto Jujutsu High',\n",
       "  'character_name': 'Yoshinobu Gakuganji'},\n",
       " {'category': 'Category:Tokyo Jujutsu High', 'character_name': 'Akari Nitta'},\n",
       " {'category': 'Category:Tokyo Jujutsu High',\n",
       "  'character_name': 'Atsuya Kusakabe'},\n",
       " {'category': 'Category:Tokyo Jujutsu High', 'character_name': 'Kento Nanami'},\n",
       " {'category': 'Category:Tokyo Jujutsu High', 'character_name': 'Kinji Hakari'},\n",
       " {'category': 'Category:Tokyo Jujutsu High', 'character_name': 'Kirara Hoshi'},\n",
       " {'category': 'Category:Tokyo Jujutsu High',\n",
       "  'character_name': 'Kiyotaka Ijichi'},\n",
       " {'category': 'Category:Tokyo Jujutsu High', 'character_name': 'Maki Zenin'},\n",
       " {'category': 'Category:Tokyo Jujutsu High',\n",
       "  'character_name': 'Masamichi Yaga'},\n",
       " {'category': 'Category:Tokyo Jujutsu High',\n",
       "  'character_name': 'Megumi Fushiguro'},\n",
       " {'category': 'Category:Tokyo Jujutsu High',\n",
       "  'character_name': 'Nobara Kugisaki'},\n",
       " {'category': 'Category:Tokyo Jujutsu High', 'character_name': 'Panda'},\n",
       " {'category': 'Category:Tokyo Jujutsu High', 'character_name': 'Satoru Gojo'},\n",
       " {'category': 'Category:Tokyo Jujutsu High', 'character_name': 'Shoko Ieiri'},\n",
       " {'category': 'Category:Tokyo Jujutsu High', 'character_name': 'Tengen'},\n",
       " {'category': 'Category:Tokyo Jujutsu High', 'character_name': 'Toge Inumaki'},\n",
       " {'category': 'Category:Tokyo Jujutsu High',\n",
       "  'character_name': 'Tokyo Metropolitan Curse Technical College'},\n",
       " {'category': 'Category:Tokyo Jujutsu High', 'character_name': 'Yuji Itadori'},\n",
       " {'category': 'Category:Tokyo Jujutsu High', 'character_name': 'Yuta Okkotsu'},\n",
       " {'category': 'Category:Zenin Family', 'character_name': 'Chojuro Zenin'},\n",
       " {'category': 'Category:Zenin Family', 'character_name': 'Jinichi Zenin'},\n",
       " {'category': 'Category:Zenin Family', 'character_name': 'Mai Zenin'},\n",
       " {'category': 'Category:Zenin Family', 'character_name': 'Maki Zenin'},\n",
       " {'category': 'Category:Zenin Family', 'character_name': 'Megumi Fushiguro'},\n",
       " {'category': 'Category:Zenin Family', 'character_name': 'Naobito Zenin'},\n",
       " {'category': 'Category:Zenin Family', 'character_name': 'Naoya Zenin'},\n",
       " {'category': 'Category:Zenin Family', 'character_name': 'Nobuaki Zenin'},\n",
       " {'category': 'Category:Zenin Family', 'character_name': 'Ogi Zenin'},\n",
       " {'category': 'Category:Zenin Family', 'character_name': 'Ranta Zenin'},\n",
       " {'category': 'Category:Zenin Family',\n",
       "  'character_name': 'Sorcerer Family/Zenin Family'},\n",
       " {'category': 'Category:Zenin Family', 'character_name': 'Toji Fushiguro'}]"
      ]
     },
     "execution_count": 49,
     "metadata": {},
     "output_type": "execute_result"
    }
   ],
   "source": [
    "character"
   ]
  },
  {
   "cell_type": "code",
   "execution_count": 50,
   "id": "c27b4634-bdd2-47e6-a105-48b9f37a6101",
   "metadata": {},
   "outputs": [
    {
     "data": {
      "text/html": [
       "<div>\n",
       "<style scoped>\n",
       "    .dataframe tbody tr th:only-of-type {\n",
       "        vertical-align: middle;\n",
       "    }\n",
       "\n",
       "    .dataframe tbody tr th {\n",
       "        vertical-align: top;\n",
       "    }\n",
       "\n",
       "    .dataframe thead th {\n",
       "        text-align: right;\n",
       "    }\n",
       "</style>\n",
       "<table border=\"1\" class=\"dataframe\">\n",
       "  <thead>\n",
       "    <tr style=\"text-align: right;\">\n",
       "      <th></th>\n",
       "      <th>category</th>\n",
       "      <th>character_name</th>\n",
       "    </tr>\n",
       "  </thead>\n",
       "  <tbody>\n",
       "    <tr>\n",
       "      <th>0</th>\n",
       "      <td>Category:Fukuoka Jujutsu High</td>\n",
       "      <td>Kaito Yuki</td>\n",
       "    </tr>\n",
       "    <tr>\n",
       "      <th>1</th>\n",
       "      <td>Category:Fukuoka Jujutsu High</td>\n",
       "      <td>Kensuke Nagino</td>\n",
       "    </tr>\n",
       "    <tr>\n",
       "      <th>2</th>\n",
       "      <td>Category:Fukuoka Jujutsu High</td>\n",
       "      <td>Saki Rindo</td>\n",
       "    </tr>\n",
       "    <tr>\n",
       "      <th>3</th>\n",
       "      <td>Category:Kyoto Jujutsu High</td>\n",
       "      <td>Aoi Todo</td>\n",
       "    </tr>\n",
       "    <tr>\n",
       "      <th>4</th>\n",
       "      <td>Category:Kyoto Jujutsu High</td>\n",
       "      <td>Arata Nitta</td>\n",
       "    </tr>\n",
       "    <tr>\n",
       "      <th>5</th>\n",
       "      <td>Category:Kyoto Jujutsu High</td>\n",
       "      <td>Kasumi Miwa</td>\n",
       "    </tr>\n",
       "    <tr>\n",
       "      <th>6</th>\n",
       "      <td>Category:Kyoto Jujutsu High</td>\n",
       "      <td>Kokichi Muta</td>\n",
       "    </tr>\n",
       "    <tr>\n",
       "      <th>7</th>\n",
       "      <td>Category:Kyoto Jujutsu High</td>\n",
       "      <td>Mai Zenin</td>\n",
       "    </tr>\n",
       "    <tr>\n",
       "      <th>8</th>\n",
       "      <td>Category:Kyoto Jujutsu High</td>\n",
       "      <td>Momo Nishimiya</td>\n",
       "    </tr>\n",
       "    <tr>\n",
       "      <th>9</th>\n",
       "      <td>Category:Kyoto Jujutsu High</td>\n",
       "      <td>Noritoshi Kamo</td>\n",
       "    </tr>\n",
       "    <tr>\n",
       "      <th>10</th>\n",
       "      <td>Category:Kyoto Jujutsu High</td>\n",
       "      <td>Utahime Iori</td>\n",
       "    </tr>\n",
       "    <tr>\n",
       "      <th>11</th>\n",
       "      <td>Category:Kyoto Jujutsu High</td>\n",
       "      <td>Yoshinobu Gakuganji</td>\n",
       "    </tr>\n",
       "    <tr>\n",
       "      <th>12</th>\n",
       "      <td>Category:Tokyo Jujutsu High</td>\n",
       "      <td>Akari Nitta</td>\n",
       "    </tr>\n",
       "    <tr>\n",
       "      <th>13</th>\n",
       "      <td>Category:Tokyo Jujutsu High</td>\n",
       "      <td>Atsuya Kusakabe</td>\n",
       "    </tr>\n",
       "    <tr>\n",
       "      <th>14</th>\n",
       "      <td>Category:Tokyo Jujutsu High</td>\n",
       "      <td>Kento Nanami</td>\n",
       "    </tr>\n",
       "    <tr>\n",
       "      <th>15</th>\n",
       "      <td>Category:Tokyo Jujutsu High</td>\n",
       "      <td>Kinji Hakari</td>\n",
       "    </tr>\n",
       "    <tr>\n",
       "      <th>16</th>\n",
       "      <td>Category:Tokyo Jujutsu High</td>\n",
       "      <td>Kirara Hoshi</td>\n",
       "    </tr>\n",
       "    <tr>\n",
       "      <th>17</th>\n",
       "      <td>Category:Tokyo Jujutsu High</td>\n",
       "      <td>Kiyotaka Ijichi</td>\n",
       "    </tr>\n",
       "    <tr>\n",
       "      <th>18</th>\n",
       "      <td>Category:Tokyo Jujutsu High</td>\n",
       "      <td>Maki Zenin</td>\n",
       "    </tr>\n",
       "    <tr>\n",
       "      <th>19</th>\n",
       "      <td>Category:Tokyo Jujutsu High</td>\n",
       "      <td>Masamichi Yaga</td>\n",
       "    </tr>\n",
       "    <tr>\n",
       "      <th>20</th>\n",
       "      <td>Category:Tokyo Jujutsu High</td>\n",
       "      <td>Megumi Fushiguro</td>\n",
       "    </tr>\n",
       "    <tr>\n",
       "      <th>21</th>\n",
       "      <td>Category:Tokyo Jujutsu High</td>\n",
       "      <td>Nobara Kugisaki</td>\n",
       "    </tr>\n",
       "    <tr>\n",
       "      <th>22</th>\n",
       "      <td>Category:Tokyo Jujutsu High</td>\n",
       "      <td>Panda</td>\n",
       "    </tr>\n",
       "    <tr>\n",
       "      <th>23</th>\n",
       "      <td>Category:Tokyo Jujutsu High</td>\n",
       "      <td>Satoru Gojo</td>\n",
       "    </tr>\n",
       "    <tr>\n",
       "      <th>24</th>\n",
       "      <td>Category:Tokyo Jujutsu High</td>\n",
       "      <td>Shoko Ieiri</td>\n",
       "    </tr>\n",
       "    <tr>\n",
       "      <th>25</th>\n",
       "      <td>Category:Tokyo Jujutsu High</td>\n",
       "      <td>Tengen</td>\n",
       "    </tr>\n",
       "    <tr>\n",
       "      <th>26</th>\n",
       "      <td>Category:Tokyo Jujutsu High</td>\n",
       "      <td>Toge Inumaki</td>\n",
       "    </tr>\n",
       "    <tr>\n",
       "      <th>27</th>\n",
       "      <td>Category:Tokyo Jujutsu High</td>\n",
       "      <td>Tokyo Metropolitan Curse Technical College</td>\n",
       "    </tr>\n",
       "    <tr>\n",
       "      <th>28</th>\n",
       "      <td>Category:Tokyo Jujutsu High</td>\n",
       "      <td>Yuji Itadori</td>\n",
       "    </tr>\n",
       "    <tr>\n",
       "      <th>29</th>\n",
       "      <td>Category:Tokyo Jujutsu High</td>\n",
       "      <td>Yuta Okkotsu</td>\n",
       "    </tr>\n",
       "    <tr>\n",
       "      <th>30</th>\n",
       "      <td>Category:Zenin Family</td>\n",
       "      <td>Chojuro Zenin</td>\n",
       "    </tr>\n",
       "    <tr>\n",
       "      <th>31</th>\n",
       "      <td>Category:Zenin Family</td>\n",
       "      <td>Jinichi Zenin</td>\n",
       "    </tr>\n",
       "    <tr>\n",
       "      <th>32</th>\n",
       "      <td>Category:Zenin Family</td>\n",
       "      <td>Mai Zenin</td>\n",
       "    </tr>\n",
       "    <tr>\n",
       "      <th>33</th>\n",
       "      <td>Category:Zenin Family</td>\n",
       "      <td>Maki Zenin</td>\n",
       "    </tr>\n",
       "    <tr>\n",
       "      <th>34</th>\n",
       "      <td>Category:Zenin Family</td>\n",
       "      <td>Megumi Fushiguro</td>\n",
       "    </tr>\n",
       "    <tr>\n",
       "      <th>35</th>\n",
       "      <td>Category:Zenin Family</td>\n",
       "      <td>Naobito Zenin</td>\n",
       "    </tr>\n",
       "    <tr>\n",
       "      <th>36</th>\n",
       "      <td>Category:Zenin Family</td>\n",
       "      <td>Naoya Zenin</td>\n",
       "    </tr>\n",
       "    <tr>\n",
       "      <th>37</th>\n",
       "      <td>Category:Zenin Family</td>\n",
       "      <td>Nobuaki Zenin</td>\n",
       "    </tr>\n",
       "    <tr>\n",
       "      <th>38</th>\n",
       "      <td>Category:Zenin Family</td>\n",
       "      <td>Ogi Zenin</td>\n",
       "    </tr>\n",
       "    <tr>\n",
       "      <th>39</th>\n",
       "      <td>Category:Zenin Family</td>\n",
       "      <td>Ranta Zenin</td>\n",
       "    </tr>\n",
       "    <tr>\n",
       "      <th>40</th>\n",
       "      <td>Category:Zenin Family</td>\n",
       "      <td>Sorcerer Family/Zenin Family</td>\n",
       "    </tr>\n",
       "    <tr>\n",
       "      <th>41</th>\n",
       "      <td>Category:Zenin Family</td>\n",
       "      <td>Toji Fushiguro</td>\n",
       "    </tr>\n",
       "  </tbody>\n",
       "</table>\n",
       "</div>"
      ],
      "text/plain": [
       "                         category                              character_name\n",
       "0   Category:Fukuoka Jujutsu High                                  Kaito Yuki\n",
       "1   Category:Fukuoka Jujutsu High                              Kensuke Nagino\n",
       "2   Category:Fukuoka Jujutsu High                                  Saki Rindo\n",
       "3     Category:Kyoto Jujutsu High                                    Aoi Todo\n",
       "4     Category:Kyoto Jujutsu High                                 Arata Nitta\n",
       "5     Category:Kyoto Jujutsu High                                 Kasumi Miwa\n",
       "6     Category:Kyoto Jujutsu High                                Kokichi Muta\n",
       "7     Category:Kyoto Jujutsu High                                   Mai Zenin\n",
       "8     Category:Kyoto Jujutsu High                              Momo Nishimiya\n",
       "9     Category:Kyoto Jujutsu High                              Noritoshi Kamo\n",
       "10    Category:Kyoto Jujutsu High                                Utahime Iori\n",
       "11    Category:Kyoto Jujutsu High                         Yoshinobu Gakuganji\n",
       "12    Category:Tokyo Jujutsu High                                 Akari Nitta\n",
       "13    Category:Tokyo Jujutsu High                             Atsuya Kusakabe\n",
       "14    Category:Tokyo Jujutsu High                                Kento Nanami\n",
       "15    Category:Tokyo Jujutsu High                                Kinji Hakari\n",
       "16    Category:Tokyo Jujutsu High                                Kirara Hoshi\n",
       "17    Category:Tokyo Jujutsu High                             Kiyotaka Ijichi\n",
       "18    Category:Tokyo Jujutsu High                                  Maki Zenin\n",
       "19    Category:Tokyo Jujutsu High                              Masamichi Yaga\n",
       "20    Category:Tokyo Jujutsu High                            Megumi Fushiguro\n",
       "21    Category:Tokyo Jujutsu High                             Nobara Kugisaki\n",
       "22    Category:Tokyo Jujutsu High                                       Panda\n",
       "23    Category:Tokyo Jujutsu High                                 Satoru Gojo\n",
       "24    Category:Tokyo Jujutsu High                                 Shoko Ieiri\n",
       "25    Category:Tokyo Jujutsu High                                      Tengen\n",
       "26    Category:Tokyo Jujutsu High                                Toge Inumaki\n",
       "27    Category:Tokyo Jujutsu High  Tokyo Metropolitan Curse Technical College\n",
       "28    Category:Tokyo Jujutsu High                                Yuji Itadori\n",
       "29    Category:Tokyo Jujutsu High                                Yuta Okkotsu\n",
       "30          Category:Zenin Family                               Chojuro Zenin\n",
       "31          Category:Zenin Family                               Jinichi Zenin\n",
       "32          Category:Zenin Family                                   Mai Zenin\n",
       "33          Category:Zenin Family                                  Maki Zenin\n",
       "34          Category:Zenin Family                            Megumi Fushiguro\n",
       "35          Category:Zenin Family                               Naobito Zenin\n",
       "36          Category:Zenin Family                                 Naoya Zenin\n",
       "37          Category:Zenin Family                               Nobuaki Zenin\n",
       "38          Category:Zenin Family                                   Ogi Zenin\n",
       "39          Category:Zenin Family                                 Ranta Zenin\n",
       "40          Category:Zenin Family                Sorcerer Family/Zenin Family\n",
       "41          Category:Zenin Family                              Toji Fushiguro"
      ]
     },
     "execution_count": 50,
     "metadata": {},
     "output_type": "execute_result"
    }
   ],
   "source": [
    "pd.DataFrame(character)"
   ]
  },
  {
   "cell_type": "code",
   "execution_count": 52,
   "id": "3a5d10f2-a002-4632-8c6c-7fdd43e724e5",
   "metadata": {},
   "outputs": [
    {
     "name": "stdout",
     "output_type": "stream",
     "text": [
      "Collecting matplotlib\n",
      "  Downloading matplotlib-3.5.2-cp38-cp38-win_amd64.whl (7.2 MB)\n",
      "Collecting cycler>=0.10\n",
      "  Downloading cycler-0.11.0-py3-none-any.whl (6.4 kB)\n",
      "Collecting pillow>=6.2.0\n",
      "  Downloading Pillow-9.1.1-cp38-cp38-win_amd64.whl (3.3 MB)\n",
      "Collecting fonttools>=4.22.0\n",
      "  Downloading fonttools-4.33.3-py3-none-any.whl (930 kB)\n",
      "Requirement already satisfied: pyparsing>=2.2.1 in c:\\users\\izzham\\documents\\python scripts\\jjk_project\\lib\\site-packages (from matplotlib) (3.0.9)\n",
      "Requirement already satisfied: numpy>=1.17 in c:\\users\\izzham\\documents\\python scripts\\jjk_project\\lib\\site-packages (from matplotlib) (1.22.4)\n",
      "Requirement already satisfied: python-dateutil>=2.7 in c:\\users\\izzham\\documents\\python scripts\\jjk_project\\lib\\site-packages (from matplotlib) (2.8.2)\n",
      "Collecting kiwisolver>=1.0.1\n",
      "  Downloading kiwisolver-1.4.2-cp38-cp38-win_amd64.whl (55 kB)\n",
      "Requirement already satisfied: packaging>=20.0 in c:\\users\\izzham\\documents\\python scripts\\jjk_project\\lib\\site-packages (from matplotlib) (21.3)\n",
      "Requirement already satisfied: six>=1.5 in c:\\users\\izzham\\documents\\python scripts\\jjk_project\\lib\\site-packages (from python-dateutil>=2.7->matplotlib) (1.16.0)\n",
      "Installing collected packages: pillow, kiwisolver, fonttools, cycler, matplotlib\n",
      "Successfully installed cycler-0.11.0 fonttools-4.33.3 kiwisolver-1.4.2 matplotlib-3.5.2 pillow-9.1.1\n"
     ]
    },
    {
     "name": "stderr",
     "output_type": "stream",
     "text": [
      "WARNING: You are using pip version 21.1.1; however, version 22.1.2 is available.\n",
      "You should consider upgrading via the 'c:\\users\\izzham\\documents\\python scripts\\jjk_project\\scripts\\python.exe -m pip install --upgrade pip' command.\n"
     ]
    }
   ],
   "source": [
    "!pip3 install matplotlib"
   ]
  },
  {
   "cell_type": "code",
   "execution_count": 57,
   "id": "8d0dc0ae-e183-4d48-b23a-243ed119ccec",
   "metadata": {},
   "outputs": [
    {
     "data": {
      "image/png": "[encoded data removed]",
      "text/plain": [
       "<Figure size 432x288 with 1 Axes>"
      ]
     },
     "metadata": {
      "needs_background": "light"
     },
     "output_type": "display_data"
    }
   ],
   "source": [
    "import matplotlib.pyplot as plt \n",
    "\n",
    "character_jjk = pd.DataFrame(character)\n",
    "\n",
    "character_jjk['category'].value_counts().plot(kind=\"bar\")\n",
    "plt.show()"
   ]
  },
  {
   "cell_type": "code",
   "execution_count": null,
   "id": "cee75078-5c11-4bb1-b9ed-eae43b8842e0",
   "metadata": {},
   "outputs": [],
   "source": []
  }
 ],
 "metadata": {
  "kernelspec": {
   "display_name": "Python 3 (ipykernel)",
   "language": "python",
   "name": "python3"
  },
  "language_info": {
   "codemirror_mode": {
    "name": "ipython",
    "version": 3
   },
   "file_extension": ".py",
   "mimetype": "text/x-python",
   "name": "python",
   "nbconvert_exporter": "python",
   "pygments_lexer": "ipython3",
   "version": "3.8.10"
  }
 },
 "nbformat": 4,
 "nbformat_minor": 5
}
